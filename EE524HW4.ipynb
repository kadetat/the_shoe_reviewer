{
  "nbformat": 4,
  "nbformat_minor": 0,
  "metadata": {
    "colab": {
      "name": "EE524HW4.ipynb",
      "provenance": [],
      "collapsed_sections": [],
      "authorship_tag": "ABX9TyPP6jvFFZ2dHouFuqbNsh9v",
      "include_colab_link": true
    },
    "kernelspec": {
      "name": "python3",
      "display_name": "Python 3"
    },
    "language_info": {
      "name": "python"
    }
  },
  "cells": [
    {
      "cell_type": "markdown",
      "metadata": {
        "id": "view-in-github",
        "colab_type": "text"
      },
      "source": [
        "<a href=\"https://colab.research.google.com/github/kadetat/the_shoe_reviewer/blob/master/EE524HW4.ipynb\" target=\"_parent\"><img src=\"https://colab.research.google.com/assets/colab-badge.svg\" alt=\"Open In Colab\"/></a>"
      ]
    },
    {
      "cell_type": "code",
      "metadata": {
        "id": "-wk7F2RIXj30"
      },
      "source": [
        "%matplotlib inline\n",
        "import matplotlib\n",
        "import matplotlib.pyplot as plt\n",
        "import numpy as np\n",
        "from numpy import random\n",
        "from scipy import linalg as scipylinalg\n",
        "from scipy import signal"
      ],
      "execution_count": 2,
      "outputs": []
    },
    {
      "cell_type": "markdown",
      "metadata": {
        "id": "eRXhfYXhbZ0B"
      },
      "source": [
        "Problem 1 part 2"
      ]
    },
    {
      "cell_type": "code",
      "metadata": {
        "colab": {
          "base_uri": "https://localhost:8080/",
          "height": 321
        },
        "id": "siSJVmJqXsu4",
        "outputId": "bb6aab77-913a-4444-947a-5f64ac7e99be"
      },
      "source": [
        "x = random.choice([1, -1], size=(50))\n",
        "plt.stem(x)\n",
        "c = np.array([1,0.7,-0.3])"
      ],
      "execution_count": null,
      "outputs": [
        {
          "output_type": "stream",
          "name": "stderr",
          "text": [
            "/usr/local/lib/python3.7/dist-packages/ipykernel_launcher.py:2: UserWarning: In Matplotlib 3.3 individual lines on a stem plot will be added as a LineCollection instead of individual lines. This significantly improves the performance of a stem plot. To remove this warning and switch to the new behaviour, set the \"use_line_collection\" keyword argument to True.\n",
            "  \n"
          ]
        },
        {
          "output_type": "display_data",
          "data": {
            "image/png": "[encoded data removed]",
            "text/plain": [
              "<Figure size 432x288 with 1 Axes>"
            ]
          },
          "metadata": {
            "needs_background": "light"
          }
        }
      ]
    },
    {
      "cell_type": "code",
      "metadata": {
        "colab": {
          "base_uri": "https://localhost:8080/",
          "height": 339
        },
        "id": "DiKNkX_waMbM",
        "outputId": "28cc57cc-0a0f-4f23-e461-dcc0ee68ccda"
      },
      "source": [
        "y = np.convolve(x, c)\n",
        "plt.stem(y)"
      ],
      "execution_count": null,
      "outputs": [
        {
          "output_type": "stream",
          "name": "stderr",
          "text": [
            "/usr/local/lib/python3.7/dist-packages/ipykernel_launcher.py:2: UserWarning: In Matplotlib 3.3 individual lines on a stem plot will be added as a LineCollection instead of individual lines. This significantly improves the performance of a stem plot. To remove this warning and switch to the new behaviour, set the \"use_line_collection\" keyword argument to True.\n",
            "  \n"
          ]
        },
        {
          "output_type": "execute_result",
          "data": {
            "text/plain": [
              "<StemContainer object of 3 artists>"
            ]
          },
          "metadata": {},
          "execution_count": 65
        },
        {
          "output_type": "display_data",
          "data": {
            "image/png": "[encoded data removed]",
            "text/plain": [
              "<Figure size 432x288 with 1 Axes>"
            ]
          },
          "metadata": {
            "needs_background": "light"
          }
        }
      ]
    },
    {
      "cell_type": "code",
      "metadata": {
        "colab": {
          "base_uri": "https://localhost:8080/",
          "height": 339
        },
        "id": "-sgTmB32a0U7",
        "outputId": "8f2035e7-7786-4a35-fdb2-cbb1d6709868"
      },
      "source": [
        "h = np.array([0.9,-0.5,0.5,-0.4,0.3,-0.3,0.2,-0.1])\n",
        "z = np.convolve(h, y)\n",
        "plt.stem(z)"
      ],
      "execution_count": null,
      "outputs": [
        {
          "output_type": "stream",
          "name": "stderr",
          "text": [
            "/usr/local/lib/python3.7/dist-packages/ipykernel_launcher.py:3: UserWarning: In Matplotlib 3.3 individual lines on a stem plot will be added as a LineCollection instead of individual lines. This significantly improves the performance of a stem plot. To remove this warning and switch to the new behaviour, set the \"use_line_collection\" keyword argument to True.\n",
            "  This is separate from the ipykernel package so we can avoid doing imports until\n"
          ]
        },
        {
          "output_type": "execute_result",
          "data": {
            "text/plain": [
              "<StemContainer object of 3 artists>"
            ]
          },
          "metadata": {},
          "execution_count": 70
        },
        {
          "output_type": "display_data",
          "data": {
            "image/png": "[encoded data removed]",
            "text/plain": [
              "<Figure size 432x288 with 1 Axes>"
            ]
          },
          "metadata": {
            "needs_background": "light"
          }
        }
      ]
    },
    {
      "cell_type": "markdown",
      "metadata": {
        "id": "eateWWKll44j"
      },
      "source": [
        "Problem 1 part 3"
      ]
    },
    {
      "cell_type": "code",
      "metadata": {
        "colab": {
          "base_uri": "https://localhost:8080/"
        },
        "id": "tXqNuzVUl6lm",
        "outputId": "c2ecb7db-88a9-4388-ddaf-7a1d6e7f3955"
      },
      "source": [
        "# Code to create Toeplitz matrix from vector found here: https://stackoverflow.com/questions/34536264/how-can-i-generate-a-toeplitz-matrix-in-the-correct-form-for-performing-discrete\n",
        "padding = np.zeros(2, c.dtype)\n",
        "first_col = np.r_[h, padding]\n",
        "first_row = np.r_[h[0], padding]\n",
        "\n",
        "toeplitz = scipylinalg.toeplitz(first_col, first_row)\n",
        "\n",
        "#toeplitz = np.matrix([[0.9,0,0],[-0.5,0.9,0],[0.5,-0.5,0.9],[-0.4,0.5,-0.5],[0.3,-0.4,0.5],[-0.3,0.3,-0.4],[0.2,-0.3,0.3],[-0.1,0.2,-0.3],[0,-0.1,0.2],[0,0,-0.1]])\n",
        "print(toeplitz)\n",
        "e0 = np.array([1,0,0,0,0,0,0,0,0,0])\n",
        "newC, residuals, rank, s = np.linalg.lstsq(toeplitz,e0)\n",
        "print(\"C = \" + str(newC))"
      ],
      "execution_count": null,
      "outputs": [
        {
          "output_type": "stream",
          "name": "stdout",
          "text": [
            "[[ 0.9  0.   0. ]\n",
            " [-0.5  0.9  0. ]\n",
            " [ 0.5 -0.5  0.9]\n",
            " [-0.4  0.5 -0.5]\n",
            " [ 0.3 -0.4  0.5]\n",
            " [-0.3  0.3 -0.4]\n",
            " [ 0.2 -0.3  0.3]\n",
            " [-0.1  0.2 -0.3]\n",
            " [ 0.  -0.1  0.2]\n",
            " [ 0.   0.  -0.1]]\n",
            "C = [ 1.0832084   0.60344828 -0.22113943]\n"
          ]
        },
        {
          "output_type": "stream",
          "name": "stderr",
          "text": [
            "/usr/local/lib/python3.7/dist-packages/ipykernel_launcher.py:11: FutureWarning: `rcond` parameter will change to the default of machine precision times ``max(M, N)`` where M and N are the input matrix dimensions.\n",
            "To use the future default and silence this warning we advise to pass `rcond=None`, to keep using the old, explicitly pass `rcond=-1`.\n",
            "  # This is added back by InteractiveShellApp.init_path()\n"
          ]
        }
      ]
    },
    {
      "cell_type": "markdown",
      "metadata": {
        "id": "wD_3kmAusq6m"
      },
      "source": [
        "Problem 1 Part 4, M=K case"
      ]
    },
    {
      "cell_type": "code",
      "metadata": {
        "colab": {
          "base_uri": "https://localhost:8080/",
          "height": 591
        },
        "id": "wKcrQU1Esqip",
        "outputId": "4dc44b30-0b03-42bc-a2c4-77a5085286a1"
      },
      "source": [
        "h = np.array([1,0.7,-0.3,-0.1,0.05])\n",
        "padding = np.zeros(5, c.dtype)\n",
        "first_col = np.r_[h, padding]\n",
        "first_row = np.r_[h[0], padding]\n",
        "\n",
        "toeplitz = scipylinalg.toeplitz(first_col, first_row)\n",
        "\n",
        "print(toeplitz)\n",
        "e0 = np.array([1,0,0,0,0,0,0,0,0,0])\n",
        "newC, residuals, rank, s = np.linalg.lstsq(toeplitz,e0)\n",
        "print(\"C = \" + str(newC))\n",
        "plt.stem(h)"
      ],
      "execution_count": null,
      "outputs": [
        {
          "output_type": "stream",
          "name": "stdout",
          "text": [
            "[[ 1.    0.    0.    0.    0.    0.  ]\n",
            " [ 0.7   1.    0.    0.    0.    0.  ]\n",
            " [-0.3   0.7   1.    0.    0.    0.  ]\n",
            " [-0.1  -0.3   0.7   1.    0.    0.  ]\n",
            " [ 0.05 -0.1  -0.3   0.7   1.    0.  ]\n",
            " [ 0.    0.05 -0.1  -0.3   0.7   1.  ]\n",
            " [ 0.    0.    0.05 -0.1  -0.3   0.7 ]\n",
            " [ 0.    0.    0.    0.05 -0.1  -0.3 ]\n",
            " [ 0.    0.    0.    0.    0.05 -0.1 ]\n",
            " [ 0.    0.    0.    0.    0.    0.05]]\n",
            "C = [ 0.94742573 -0.60063038  0.63080936 -0.44302007  0.29228952 -0.15702211]\n"
          ]
        },
        {
          "output_type": "stream",
          "name": "stderr",
          "text": [
            "/usr/local/lib/python3.7/dist-packages/ipykernel_launcher.py:10: FutureWarning: `rcond` parameter will change to the default of machine precision times ``max(M, N)`` where M and N are the input matrix dimensions.\n",
            "To use the future default and silence this warning we advise to pass `rcond=None`, to keep using the old, explicitly pass `rcond=-1`.\n",
            "  # Remove the CWD from sys.path while we load stuff.\n",
            "/usr/local/lib/python3.7/dist-packages/ipykernel_launcher.py:12: UserWarning: In Matplotlib 3.3 individual lines on a stem plot will be added as a LineCollection instead of individual lines. This significantly improves the performance of a stem plot. To remove this warning and switch to the new behaviour, set the \"use_line_collection\" keyword argument to True.\n",
            "  if sys.path[0] == '':\n"
          ]
        },
        {
          "output_type": "execute_result",
          "data": {
            "text/plain": [
              "<StemContainer object of 3 artists>"
            ]
          },
          "metadata": {},
          "execution_count": 72
        },
        {
          "output_type": "display_data",
          "data": {
            "image/png": "[encoded data removed]",
            "text/plain": [
              "<Figure size 432x288 with 1 Axes>"
            ]
          },
          "metadata": {
            "needs_background": "light"
          }
        }
      ]
    },
    {
      "cell_type": "code",
      "metadata": {
        "colab": {
          "base_uri": "https://localhost:8080/",
          "height": 339
        },
        "id": "WxVtwfkHtiu6",
        "outputId": "ba3af45b-ff56-4888-ed94-5115884740df"
      },
      "source": [
        "plt.stem(c)"
      ],
      "execution_count": null,
      "outputs": [
        {
          "output_type": "stream",
          "name": "stderr",
          "text": [
            "/usr/local/lib/python3.7/dist-packages/ipykernel_launcher.py:1: UserWarning: In Matplotlib 3.3 individual lines on a stem plot will be added as a LineCollection instead of individual lines. This significantly improves the performance of a stem plot. To remove this warning and switch to the new behaviour, set the \"use_line_collection\" keyword argument to True.\n",
            "  \"\"\"Entry point for launching an IPython kernel.\n"
          ]
        },
        {
          "output_type": "execute_result",
          "data": {
            "text/plain": [
              "<StemContainer object of 3 artists>"
            ]
          },
          "metadata": {},
          "execution_count": 73
        },
        {
          "output_type": "display_data",
          "data": {
            "image/png": "[encoded data removed]",
            "text/plain": [
              "<Figure size 432x288 with 1 Axes>"
            ]
          },
          "metadata": {
            "needs_background": "light"
          }
        }
      ]
    },
    {
      "cell_type": "code",
      "metadata": {
        "colab": {
          "base_uri": "https://localhost:8080/",
          "height": 339
        },
        "id": "xDClgejZthbc",
        "outputId": "33a1154c-9933-4530-8bf5-0d33e94a26f3"
      },
      "source": [
        "hc = np.convolve(h, c)\n",
        "plt.stem(hc)"
      ],
      "execution_count": null,
      "outputs": [
        {
          "output_type": "stream",
          "name": "stderr",
          "text": [
            "/usr/local/lib/python3.7/dist-packages/ipykernel_launcher.py:2: UserWarning: In Matplotlib 3.3 individual lines on a stem plot will be added as a LineCollection instead of individual lines. This significantly improves the performance of a stem plot. To remove this warning and switch to the new behaviour, set the \"use_line_collection\" keyword argument to True.\n",
            "  \n"
          ]
        },
        {
          "output_type": "execute_result",
          "data": {
            "text/plain": [
              "<StemContainer object of 3 artists>"
            ]
          },
          "metadata": {},
          "execution_count": 74
        },
        {
          "output_type": "display_data",
          "data": {
            "image/png": "[encoded data removed]",
            "text/plain": [
              "<Figure size 432x288 with 1 Axes>"
            ]
          },
          "metadata": {
            "needs_background": "light"
          }
        }
      ]
    },
    {
      "cell_type": "markdown",
      "metadata": {
        "id": "kJ4ErI-qm2Ga"
      },
      "source": [
        "Problem 5 Part 1"
      ]
    },
    {
      "cell_type": "code",
      "metadata": {
        "colab": {
          "base_uri": "https://localhost:8080/",
          "height": 0
        },
        "id": "sWMTPrxgm5By",
        "outputId": "9385eb31-3ecf-4d9a-d6e7-5293931e2947"
      },
      "source": [
        "N = 1000 # Input size\n",
        "M = 21 # Filter size\n",
        "delta = 10\n",
        "h = np.array([0.125,0.5,0.125])\n",
        "# print(h)\n",
        "b = random.choice([1.0, -1.0], size=(N))\n",
        "# print(b)\n",
        "x = np.convolve(h,b)\n",
        "# print(x)\n",
        "x = x + np.sqrt(0.01) * np.random.randn(len(x))\n",
        "# print(x)\n",
        "y = np.concatenate((np.zeros(delta,b.dtype),b),axis=0)\n",
        "# print(y)\n",
        "print(y.shape)"
      ],
      "execution_count": 57,
      "outputs": [
        {
          "output_type": "stream",
          "name": "stdout",
          "text": [
            "(1010,)\n"
          ]
        }
      ]
    },
    {
      "cell_type": "code",
      "metadata": {
        "colab": {
          "base_uri": "https://localhost:8080/",
          "height": 0
        },
        "id": "yYMbnBG6xQBr",
        "outputId": "dd669503-bace-42c1-bed8-b7f8fc7d8bf6"
      },
      "source": [
        "padding = np.zeros(M-1, x.dtype)\n",
        "first_col = np.r_[x, padding]\n",
        "first_row = np.r_[x[0], padding]\n",
        "\n",
        "toeplitz = scipylinalg.toeplitz(first_col, first_row)\n",
        "index = np.array([1010,1011,1012,1013,1014,1015,1016,1017,1018,1019,1020,1021])\n",
        "toeplitz = np.delete(toeplitz,index, axis = 0)\n",
        "print(toeplitz.shape)\n",
        "print(toeplitz)"
      ],
      "execution_count": 58,
      "outputs": [
        {
          "output_type": "stream",
          "name": "stdout",
          "text": [
            "(1010, 21)\n",
            "[[ 0.08920725  0.          0.         ...  0.          0.\n",
            "   0.        ]\n",
            " [ 0.34800361  0.08920725  0.         ...  0.          0.\n",
            "   0.        ]\n",
            " [-0.52242598  0.34800361  0.08920725 ...  0.          0.\n",
            "   0.        ]\n",
            " ...\n",
            " [ 0.          0.          0.         ... -0.7027617  -0.7294954\n",
            "  -0.78708669]\n",
            " [ 0.          0.          0.         ... -0.72131171 -0.7027617\n",
            "  -0.7294954 ]\n",
            " [ 0.          0.          0.         ...  0.43868566 -0.72131171\n",
            "  -0.7027617 ]]\n"
          ]
        }
      ]
    },
    {
      "cell_type": "code",
      "metadata": {
        "colab": {
          "base_uri": "https://localhost:8080/",
          "height": 0
        },
        "id": "2KoIvrx42C5o",
        "outputId": "a121235d-d4e8-46b4-8150-c65cc19f893d"
      },
      "source": [
        "weights, residuals, rank, s = np.linalg.lstsq(toeplitz,y)\n",
        "print(weights)"
      ],
      "execution_count": 59,
      "outputs": [
        {
          "output_type": "stream",
          "name": "stdout",
          "text": [
            "[-7.77193203e-03  1.27818627e-02 -5.78177557e-03  2.00059517e-02\n",
            " -1.99671239e-03  1.19341869e-02 -1.54227252e-02  1.08464285e-01\n",
            " -4.93085780e-01  2.11841386e+00 -4.84472067e-01  9.54387665e-02\n",
            " -2.82476196e-02  3.49180231e-02 -6.21116900e-02  5.02375071e-02\n",
            " -3.35553972e-03 -6.81554876e-03  7.82729131e-03  2.22210529e-02\n",
            " -8.57860511e-03]\n"
          ]
        },
        {
          "output_type": "stream",
          "name": "stderr",
          "text": [
            "/usr/local/lib/python3.7/dist-packages/ipykernel_launcher.py:1: FutureWarning: `rcond` parameter will change to the default of machine precision times ``max(M, N)`` where M and N are the input matrix dimensions.\n",
            "To use the future default and silence this warning we advise to pass `rcond=None`, to keep using the old, explicitly pass `rcond=-1`.\n",
            "  \"\"\"Entry point for launching an IPython kernel.\n"
          ]
        }
      ]
    },
    {
      "cell_type": "code",
      "metadata": {
        "colab": {
          "base_uri": "https://localhost:8080/",
          "height": 0
        },
        "id": "vF7_wmS095d3",
        "outputId": "78b73cae-66e9-4b26-b876-941865c60b67"
      },
      "source": [
        "Ex = np.matmul(toeplitz,weights)\n",
        "MSE = (1/1000)*(pow(np.sum(y-Ex),2))\n",
        "print(MSE)"
      ],
      "execution_count": 60,
      "outputs": [
        {
          "output_type": "stream",
          "name": "stdout",
          "text": [
            "0.0004820511739811315\n"
          ]
        }
      ]
    },
    {
      "cell_type": "markdown",
      "metadata": {
        "id": "OS35jBDHAT1b"
      },
      "source": [
        "Problem 5 Part 2"
      ]
    },
    {
      "cell_type": "code",
      "metadata": {
        "colab": {
          "base_uri": "https://localhost:8080/",
          "height": 0
        },
        "id": "NcgH57XeAVa-",
        "outputId": "5d025adc-b44b-44a9-86ff-cfaa8ede7a96"
      },
      "source": [
        "w = np.zeros(M) # Initial filter\n",
        "e = np.zeros(N-M)\n",
        "mu = 0.03\n",
        "for n in range(0, N-M):\n",
        "  xn = x[n+M:n:-1]\n",
        "  en = x[n+M] - np.dot(xn , w) # Error\n",
        "  w = w + mu * en * xn # Update filter (LMS algorithm)\n",
        "  e[n] = pow(en,2) # Record error\n",
        "print(w)\n",
        "# MSE for LMS Algorithm\n",
        "Ex = np.matmul(toeplitz,w)\n",
        "MSE = (1/1000)*(pow(np.sum(y-Ex),2))\n",
        "print(MSE)\n",
        "MSEVector = np.ones((1,e.size)).T * MSE\n",
        "#print(MSEVector)\n",
        "\n"
      ],
      "execution_count": 61,
      "outputs": [
        {
          "output_type": "stream",
          "name": "stdout",
          "text": [
            "[ 9.95770029e-01  6.00123394e-03 -4.45995924e-03  2.06946962e-03\n",
            " -5.95344163e-04 -3.88247252e-04  4.14243891e-04 -5.05031636e-04\n",
            "  4.91861241e-04 -8.44028291e-04  5.37345338e-04 -1.95038499e-05\n",
            " -7.50839423e-04  7.68823833e-04 -3.57519363e-04 -8.11434804e-04\n",
            "  6.54294719e-04 -3.22319902e-04  6.25963295e-04 -1.46718911e-04\n",
            "  2.12320102e-04]\n",
            "0.06182143262639573\n"
          ]
        }
      ]
    },
    {
      "cell_type": "markdown",
      "metadata": {
        "id": "HvIEZxjNC-CB"
      },
      "source": [
        "Problem 5 Part 3"
      ]
    },
    {
      "cell_type": "code",
      "metadata": {
        "colab": {
          "base_uri": "https://localhost:8080/",
          "height": 283
        },
        "id": "yuo9iaUdC_4C",
        "outputId": "f36f215c-2945-4dd1-83cc-06729de05b70"
      },
      "source": [
        "w = np.zeros(M) # Initial filter\n",
        "e = np.zeros(N-M)\n",
        "mu = 0.003\n",
        "for n in range(0, N-M):\n",
        "  xn = x[n+M:n:-1]\n",
        "  en = x[n+M] - np.dot(xn , w) # Error\n",
        "  w = w + mu * en * xn # Update filter (LMS algorithm)\n",
        "  e[n] = pow(en,2) # Record error\n",
        "  plt.plot(n, e[n], label='LMS')\n",
        "\n",
        "n = np.arange(0,e.size)\n",
        "plt.plot(n,e, label='e[n]')\n",
        "plt.plot(n,MSEVector, label='MSE')\n",
        "plt.show\n"
      ],
      "execution_count": 62,
      "outputs": [
        {
          "output_type": "execute_result",
          "data": {
            "text/plain": [
              "<function matplotlib.pyplot.show>"
            ]
          },
          "metadata": {},
          "execution_count": 62
        },
        {
          "output_type": "display_data",
          "data": {
            "image/png": "[encoded data removed]",
            "text/plain": [
              "<Figure size 432x288 with 1 Axes>"
            ]
          },
          "metadata": {
            "needs_background": "light"
          }
        }
      ]
    },
    {
      "cell_type": "code",
      "metadata": {
        "colab": {
          "base_uri": "https://localhost:8080/",
          "height": 0
        },
        "id": "07FTqEjtHYEU",
        "outputId": "0fd12dd9-fe16-42c9-95be-08b62346ca0d"
      },
      "source": [
        "MSETotal = 0\n",
        "for x in range(1,101):\n",
        "  b = random.choice([1.0, -1.0], size=(N))\n",
        "  x = np.convolve(h,b)\n",
        "  x = x + np.sqrt(0.01) * np.random.randn(len(x))\n",
        "  y = np.concatenate((np.zeros(delta,b.dtype),b),axis=0)\n",
        "  first_col = np.r_[x, padding]\n",
        "  first_row = np.r_[x[0], padding]\n",
        "  toeplitz = scipylinalg.toeplitz(first_col, first_row) \n",
        "  index = np.array([1010,1011,1012,1013,1014,1015,1016,1017,1018,1019,1020,1021])\n",
        "  toeplitz = np.delete(toeplitz,index, axis = 0)\n",
        "  weights, residuals, rank, s = np.linalg.lstsq(toeplitz,y)\n",
        "  Ex = np.matmul(toeplitz,weights)\n",
        "  MSE = (1/1000)*(pow(np.sum(y-Ex),2))\n",
        "  MSETotal += MSE\n",
        "  x = x + 1\n",
        "\n",
        "MSEAverage = MSETotal/100\n",
        "print(\"Expectation of MSE = \" + str(MSEAverage))\n",
        "\n",
        "LMSTotal = 0\n",
        "for index in range(1,101):\n",
        "  w = np.zeros(M) # Initial filter\n",
        "  e = np.zeros(N-M)\n",
        "  mu = 0.003\n",
        "  for n in range(0, N-M):\n",
        "    xn = x[n+M:n:-1]\n",
        "    en = x[n+M] - np.dot(xn , w) # Error\n",
        "    w = w + mu * en * xn # Update filter (LMS algorithm)\n",
        "    e[n] = pow(en,2) # Record error\n",
        "  LMSTotal += e[100]\n",
        "  index = index + 1\n",
        "\n",
        "LMSAverage = LMSTotal/100\n",
        "print(\"Expectation of LMS = \" + str(LMSAverage))\n"
      ],
      "execution_count": 63,
      "outputs": [
        {
          "output_type": "stream",
          "name": "stderr",
          "text": [
            "/usr/local/lib/python3.7/dist-packages/ipykernel_launcher.py:12: FutureWarning: `rcond` parameter will change to the default of machine precision times ``max(M, N)`` where M and N are the input matrix dimensions.\n",
            "To use the future default and silence this warning we advise to pass `rcond=None`, to keep using the old, explicitly pass `rcond=-1`.\n",
            "  if sys.path[0] == '':\n"
          ]
        },
        {
          "output_type": "stream",
          "name": "stdout",
          "text": [
            "Expectation of MSE = 0.018299956742342315\n",
            "Expectation of LMS = 0.05719503980749155\n"
          ]
        }
      ]
    },
    {
      "cell_type": "markdown",
      "metadata": {
        "id": "I_EBDb_eKzbR"
      },
      "source": [
        "The least-mean-squares (LMS) algorithm has considerable more error than the MSE model for one trial and a higher error expectation value found from performing 100 indiviual trials."
      ]
    },
    {
      "cell_type": "markdown",
      "metadata": {
        "id": "SDOwyhzXUU64"
      },
      "source": [
        ""
      ]
    }
  ]
}